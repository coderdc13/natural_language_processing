{
 "cells": [
  {
   "cell_type": "markdown",
   "metadata": {},
   "source": [
    "# News Headlines Sentiment\n",
    "\n",
    "Use the news api to pull the latest news articles for bitcoin and ethereum and create a DataFrame of sentiment scores for each coin. \n",
    "\n",
    "Use descriptive statistics to answer the following questions:\n",
    "1. Which coin had the highest mean positive score?\n",
    "2. Which coin had the highest negative score?\n",
    "3. Which coin had the highest positive score?"
   ]
  },
  {
   "cell_type": "code",
   "execution_count": null,
   "metadata": {},
   "outputs": [],
   "source": [
    "# Initial imports\n",
    "import os\n",
    "import pandas as pd\n",
    "from dotenv import load_dotenv\n",
    "from nltk.sentiment.vader import SentimentIntensityAnalyzer\n",
    "analyzer = SentimentIntensityAnalyzer()\n",
    "\n",
    "%matplotlib inline\n",
    "\n",
    "from newsapi import NewsApiClient"
   ]
  },
  {
   "cell_type": "code",
   "execution_count": null,
   "metadata": {},
   "outputs": [],
   "source": [
    "load_dotenv()"
   ]
  },
  {
   "cell_type": "code",
   "execution_count": null,
   "metadata": {},
   "outputs": [],
   "source": [
    "# Read your api key environment variable\n",
    "# YOUR CODE HERE!\n",
    "api_key = os.getenv(\"NEWS_API_KEY\")"
   ]
  },
  {
   "cell_type": "code",
   "execution_count": null,
   "metadata": {},
   "outputs": [],
   "source": [
    "type(api_key)"
   ]
  },
  {
   "cell_type": "code",
   "execution_count": null,
   "metadata": {},
   "outputs": [],
   "source": [
    "# Create a newsapi client\n",
    "# YOUR CODE HERE!\n",
    "newsapi = NewsApiClient(api_key=api_key)"
   ]
  },
  {
   "cell_type": "code",
   "execution_count": null,
   "metadata": {},
   "outputs": [],
   "source": [
    "# Fetch the Bitcoin news articles\n",
    "# YOUR CODE HERE!\n",
    "bitcoin_articles = newsapi.get_everything(q=\"Bitcoin AND bitcoin\", language=\"en\", page_size=100, sort_by='relevancy')\n",
    "print(f\"Total Number of Articles with Bitcoin: {bitcoin_articles['totalResults']}\")\n",
    "bitcoin_articles['articles'][0]\n",
    "type(bitcoin_articles)"
   ]
  },
  {
   "cell_type": "code",
   "execution_count": null,
   "metadata": {},
   "outputs": [],
   "source": [
    "# Fetch the Ethereum news articles\n",
    "# YOUR CODE HERE!\n",
    "ethereum_articles = newsapi.get_everything(q=\"Ethereum AND ethereum\", language=\"en\", page_size=100, sort_by='relevancy')\n",
    "print(f\"Total Number of Articles with Ethereum: {bitcoin_articles['totalResults']}\")\n",
    "type(ethereum_articles)"
   ]
  },
  {
   "cell_type": "code",
   "execution_count": null,
   "metadata": {},
   "outputs": [],
   "source": [
    "print(f\"Total Number of Articles with Ethereum: {ethereum_articles['totalResults']}\")\n",
    "ethereum_articles['articles'][0]"
   ]
  },
  {
   "cell_type": "code",
   "execution_count": null,
   "metadata": {},
   "outputs": [],
   "source": [
    "print(f\"articles with Ethereum: {ethereum_articles['totalResults']}\")\n",
    "ethereum_articles[\"articles\"][0]"
   ]
  },
  {
   "cell_type": "code",
   "execution_count": null,
   "metadata": {},
   "outputs": [],
   "source": [
    "# trying to make function that in turn makes dataframes from api\n",
    "def make_df(news):\n",
    "    articles = []\n",
    "    for item in news:\n",
    "        try:\n",
    "            text = item['content']\n",
    "            articles.append({'text': text})\n",
    "        except AttributeError:\n",
    "            pass\n",
    "    return pd.DataFrame(articles)\n",
    "        "
   ]
  },
  {
   "cell_type": "code",
   "execution_count": null,
   "metadata": {},
   "outputs": [],
   "source": [
    "# trying to make dataframe for each topic\n",
    "bitcoin_df = make_df(bitcoin_articles['articles'])\n",
    "bitcoin_df.dropna(inplace=True)\n",
    "bitcoin_df.head()"
   ]
  },
  {
   "cell_type": "code",
   "execution_count": null,
   "metadata": {},
   "outputs": [],
   "source": [
    "ethereum_df = make_df(ethereum_articles['articles'])\n",
    "ethereum_df.dropna(inplace=True)\n",
    "ethereum_df.head()"
   ]
  },
  {
   "cell_type": "code",
   "execution_count": null,
   "metadata": {},
   "outputs": [],
   "source": [
    "# Create the Bitcoin sentiment scores DataFrame\n",
    "# YOUR CODE HERE!\n",
    "#trying to make sentiment scores dictionaries\n",
    "text_snt = {'text_compound': [], 'text_pos': [], 'text_neu': [], 'text_neg': []}\n",
    "\n",
    "for index, row in bitcoin_df.iterrows():\n",
    "    try:\n",
    "        text_sentiment = analyzer.polarity_scores(row['text'])\n",
    "        text_snt['text_compound'].append(text_sentiment['compound'])\n",
    "        text_snt['text_pos'].append(text_sentiment['pos'])\n",
    "        text_snt['text_neu'].append(text_sentiment['neu'])\n",
    "        text_snt['text_neg'].append(text_sentiment['neg'])\n",
    "        \n",
    "        #bitcoin_sentiments.append({\"text\": text, \"date\": date, \"compound\": compound, \"positive\": pos, \"negative\": neg, \"neutral\": neu})\n",
    "        \n",
    "    except AttributeError:\n",
    "        pass\n",
    "    \n",
    "bitcoin_sentiment_df = pd.DataFrame(text_snt)\n",
    "\n",
    "bitcoin_df = bitcoin_df.join(bitcoin_sentiment_df)\n",
    "\n",
    "bitcoin_df.columns = ['Article_Name', 'Compound', 'Good', 'Neutral', 'Bad']\n",
    "\n",
    "bitcoin_df.head()"
   ]
  },
  {
   "cell_type": "code",
   "execution_count": null,
   "metadata": {},
   "outputs": [],
   "source": [
    "bitcoin_df.head()"
   ]
  },
  {
   "cell_type": "code",
   "execution_count": null,
   "metadata": {},
   "outputs": [],
   "source": [
    "bitcoin_df.shape"
   ]
  },
  {
   "cell_type": "code",
   "execution_count": null,
   "metadata": {},
   "outputs": [],
   "source": [
    "bitcoin_df.describe()"
   ]
  },
  {
   "cell_type": "code",
   "execution_count": null,
   "metadata": {},
   "outputs": [],
   "source": []
  },
  {
   "cell_type": "code",
   "execution_count": null,
   "metadata": {},
   "outputs": [],
   "source": [
    "# Create the ethereum sentiment scores DataFrame\n",
    "# YOUR CODE HERE!\n",
    "text_snt = {'text_compound': [], 'text_pos': [], 'text_neu': [], 'text_neg': []}\n",
    "\n",
    "for index, row in ethereum_df.iterrows():\n",
    "    try:\n",
    "        text_sentiment = analyzer.polarity_scores(row['text'])\n",
    "        text_snt['text_compound'].append(text_sentiment['compound'])\n",
    "        text_snt['text_pos'].append(text_sentiment['pos'])\n",
    "        text_snt['text_neu'].append(text_sentiment['neu'])\n",
    "        text_snt['text_neg'].append(text_sentiment['neg'])\n",
    "        \n",
    "        #bitcoin_sentiments.append({\"text\": text, \"date\": date, \"compound\": compound, \"positive\": pos, \"negative\": neg, \"neutral\": neu})\n",
    "        \n",
    "    except AttributeError:\n",
    "        pass\n",
    "    \n",
    "ethereum_sentiment_df = pd.DataFrame(text_snt)\n",
    "\n",
    "ethereum_df = ethereum_df.join(ethereum_sentiment_df)\n",
    "\n",
    "ethereum_df.columns = ['Article_Name', 'Compound', 'Good', 'Neutral', 'Bad']\n",
    "\n",
    "ethereum_df.head()\n"
   ]
  },
  {
   "cell_type": "code",
   "execution_count": null,
   "metadata": {},
   "outputs": [],
   "source": []
  },
  {
   "cell_type": "code",
   "execution_count": null,
   "metadata": {},
   "outputs": [],
   "source": [
    "ethereum_df.head()"
   ]
  },
  {
   "cell_type": "code",
   "execution_count": null,
   "metadata": {},
   "outputs": [],
   "source": [
    "ethereum_df.describe()"
   ]
  },
  {
   "cell_type": "code",
   "execution_count": null,
   "metadata": {},
   "outputs": [],
   "source": [
    "# Describe the Bitcoin Sentiment\n",
    "# YOUR CODE HERE!\n",
    "bitcoin_df.head()"
   ]
  },
  {
   "cell_type": "code",
   "execution_count": null,
   "metadata": {},
   "outputs": [],
   "source": [
    "# Describe the Ethereum Sentiment\n",
    "# YOUR CODE HERE!\n",
    "ethereum_df.head()"
   ]
  },
  {
   "cell_type": "markdown",
   "metadata": {},
   "source": [
    "### Questions:\n",
    "\n",
    "Q: Which coin had the highest mean positive score?\n",
    "\n",
    "A: \n",
    "\n",
    "Q: Which coin had the highest compound score?\n",
    "\n",
    "A: \n",
    "\n",
    "Q. Which coin had the highest positive score?\n",
    "\n",
    "A: "
   ]
  },
  {
   "cell_type": "markdown",
   "metadata": {},
   "source": [
    "---"
   ]
  },
  {
   "cell_type": "markdown",
   "metadata": {},
   "source": [
    "# Tokenizer\n",
    "\n",
    "In this section, you will use NLTK and Python to tokenize the text for each coin. Be sure to:\n",
    "1. Lowercase each word\n",
    "2. Remove Punctuation\n",
    "3. Remove Stopwords"
   ]
  },
  {
   "cell_type": "code",
   "execution_count": null,
   "metadata": {},
   "outputs": [],
   "source": [
    "from nltk.tokenize import word_tokenize, sent_tokenize\n",
    "from nltk.corpus import stopwords\n",
    "from nltk.stem import WordNetLemmatizer, PorterStemmer\n",
    "from string import punctuation\n",
    "import re"
   ]
  },
  {
   "cell_type": "code",
   "execution_count": null,
   "metadata": {},
   "outputs": [],
   "source": [
    "print(punctuation)"
   ]
  },
  {
   "cell_type": "code",
   "execution_count": null,
   "metadata": {},
   "outputs": [],
   "source": [
    "# Expand the default stopwords list if necessary\n",
    "# YOUR CODE HERE!\n",
    "### Student Author wishes not to have too many stopwords..."
   ]
  },
  {
   "cell_type": "code",
   "execution_count": null,
   "metadata": {},
   "outputs": [],
   "source": [
    "#bitk_df = bitcoin_df['text']\n",
    "#bitk_df"
   ]
  },
  {
   "cell_type": "code",
   "execution_count": null,
   "metadata": {},
   "outputs": [],
   "source": [
    "#period = bitk_df[0].split('.')[0]\n",
    "#period"
   ]
  },
  {
   "cell_type": "code",
   "execution_count": null,
   "metadata": {},
   "outputs": [],
   "source": [
    "#comma = period.split(',')[0]\n",
    "#print(comma.split(' '))"
   ]
  },
  {
   "cell_type": "code",
   "execution_count": null,
   "metadata": {},
   "outputs": [],
   "source": [
    "#print(word_tokenize(comma))"
   ]
  },
  {
   "cell_type": "code",
   "execution_count": null,
   "metadata": {},
   "outputs": [],
   "source": [
    "#word_tkod = []\n",
    "#for clump in sentence_tkod:\n",
    "#    list_of_words = []\n",
    "#    for comma in clump:\n",
    "#        list_of_words = list_of_words + word_tokenize(comma)\n",
    "#    word_tkod.append(list_of_words)"
   ]
  },
  {
   "cell_type": "code",
   "execution_count": null,
   "metadata": {},
   "outputs": [],
   "source": [
    "#content = bitcoin_articles['articles'][1]['content']\n",
    "#words = word_tokenize(content)\n",
    "#content"
   ]
  },
  {
   "cell_type": "code",
   "execution_count": null,
   "metadata": {},
   "outputs": [],
   "source": [
    "\n",
    "    "
   ]
  },
  {
   "cell_type": "code",
   "execution_count": null,
   "metadata": {},
   "outputs": [],
   "source": [
    "#bitcoin_df['tokens'] = bitcoin_df['text'].apply(tokenizer)"
   ]
  },
  {
   "cell_type": "code",
   "execution_count": null,
   "metadata": {},
   "outputs": [],
   "source": [
    "#bitcoin_df.head()"
   ]
  },
  {
   "cell_type": "code",
   "execution_count": null,
   "metadata": {},
   "outputs": [],
   "source": [
    "# Complete the tokenizer function\n",
    "\n",
    "\n",
    "frank_lemmatizer = WordNetLemmatizer()\n",
    "def tokenizer(text):\n",
    "    words = []\n",
    "    # Cut Punctuation\n",
    "    regex_application = re.compile(\"[^a-zA-Z ]\")\n",
    "    repunctuated = regex_application.sub('', text)\n",
    "    # Make List of Words\n",
    "    unit = sent_tokenize(repunctuated)\n",
    "    words = []\n",
    "    for item in unit:\n",
    "        subunit = word_tokenize(item)\n",
    "        words = words + subunit\n",
    "    # Change Words to Lowercase\n",
    "    lower_case_words = [subunit.lower() for subunit in words]\n",
    "    #Cut Stop Words\n",
    "    stoppers = set(stopwords.words('english'))\n",
    "    words_stoppers = [subunit for subunit in lower_case_words if subunit not in stoppers]\n",
    "    # Lemmatize into Root Words\n",
    "    results = [frank_lemmatizer.lemmatize(subunit) for subunit in words_stoppers]\n",
    "    return results\n",
    "\n",
    "\n"
   ]
  },
  {
   "cell_type": "code",
   "execution_count": null,
   "metadata": {},
   "outputs": [],
   "source": [
    "# Create a new tokens column for bitcoin\n",
    "# YOUR CODE HERE!\n",
    "bitcoin_df['Tokens'] = [tokenizer(text) for text in bitcoin_df['Article_Name']]\n",
    "bitcoin_df.head()"
   ]
  },
  {
   "cell_type": "code",
   "execution_count": null,
   "metadata": {},
   "outputs": [],
   "source": [
    "# Create a new tokens column for ethereum\n",
    "# YOUR CODE HERE!\n",
    "ethereum_df['Tokens'] = [tokenizer(text) for text in ethereum_df['Article_Name']]\n",
    "ethereum_df.head()"
   ]
  },
  {
   "cell_type": "markdown",
   "metadata": {},
   "source": [
    "---"
   ]
  },
  {
   "cell_type": "markdown",
   "metadata": {},
   "source": [
    "# NGrams and Frequency Analysis\n",
    "\n",
    "In this section you will look at the ngrams and word frequency for each coin. \n",
    "\n",
    "1. Use NLTK to produce the n-grams for N = 2. \n",
    "2. List the top 10 words for each coin. "
   ]
  },
  {
   "cell_type": "code",
   "execution_count": null,
   "metadata": {},
   "outputs": [],
   "source": [
    "from collections import Counter\n",
    "from nltk import ngrams"
   ]
  },
  {
   "cell_type": "code",
   "execution_count": null,
   "metadata": {},
   "outputs": [],
   "source": [
    "# Generate the Bitcoin N-grams where N=2\n",
    "# YOUR CODE HERE!\n",
    "large_string = ' '.join(bitcoin_df['Article_Name'])\n",
    "finished = tokenizer(large_string)\n",
    "bigram = ngrams(finished, n = 2)\n",
    "Counter(bigram).most_common(10)"
   ]
  },
  {
   "cell_type": "code",
   "execution_count": null,
   "metadata": {},
   "outputs": [],
   "source": [
    "# Generate the Ethereum N-grams where N=2\n",
    "# YOUR CODE HERE!\n",
    "et_large_string = ' '.join(ethereum_df['Article_Name'])\n",
    "et_finished = tokenizer(et_large_string)\n",
    "et_bigram = ngrams(et_finished, n = 2)\n",
    "Counter(et_bigram).most_common(10)"
   ]
  },
  {
   "cell_type": "code",
   "execution_count": null,
   "metadata": {},
   "outputs": [],
   "source": [
    "# Use the token_count function to generate the top 10 words from each coin\n",
    "def token_count(tokens, N=10):\n",
    "    \"\"\"Returns the top N tokens from the frequency count\"\"\"\n",
    "    return Counter(tokens).most_common(N)"
   ]
  },
  {
   "cell_type": "code",
   "execution_count": null,
   "metadata": {},
   "outputs": [],
   "source": [
    "# Get the top 10 words for Bitcoin\n",
    "# YOUR CODE HERE!\n",
    "\n",
    "large_string = ' '.join(bitcoin_df['Article_Name'])\n",
    "finished = tokenizer(large_string)\n",
    "token_count(finished)"
   ]
  },
  {
   "cell_type": "code",
   "execution_count": null,
   "metadata": {},
   "outputs": [],
   "source": [
    "# Get the top 10 words for Ethereum\n",
    "# YOUR CODE HERE!\n",
    "et_large_string = ' '.join(ethereum_df['Article_Name'])\n",
    "et_finished = tokenizer(et_large_string)\n",
    "token_count(et_finished)"
   ]
  },
  {
   "cell_type": "markdown",
   "metadata": {},
   "source": [
    "# Word Clouds\n",
    "\n",
    "In this section, you will generate word clouds for each coin to summarize the news for each coin"
   ]
  },
  {
   "cell_type": "code",
   "execution_count": null,
   "metadata": {},
   "outputs": [],
   "source": [
    "from wordcloud import WordCloud\n",
    "import matplotlib.pyplot as plt\n",
    "plt.style.use('seaborn-whitegrid')\n",
    "import matplotlib as mpl\n",
    "mpl.rcParams['figure.figsize'] = [20.0, 10.0]"
   ]
  },
  {
   "cell_type": "code",
   "execution_count": null,
   "metadata": {},
   "outputs": [],
   "source": [
    "# Generate the Bitcoin word cloud\n",
    "# YOUR CODE HERE!\n",
    "large_string = ' '.join(bitcoin_df['Article_Name'])\n",
    "finished = tokenizer(large_string)\n",
    "entering_text = ' '.join(finished)\n",
    "word_cloud_bitcoin = WordCloud().generate(entering_text)\n",
    "plt.imshow(word_cloud_bitcoin)\n",
    "\n",
    "#bigram = ngrams(finished, n = 2)\n",
    "#Counter(bigram).most_common(10)"
   ]
  },
  {
   "cell_type": "code",
   "execution_count": null,
   "metadata": {},
   "outputs": [],
   "source": [
    "# Generate the Ethereum word cloud\n",
    "# YOUR CODE HERE!\n",
    "\n",
    "et_large_string = ' '.join(ethereum_df['Article_Name'])\n",
    "et_finished = tokenizer(et_large_string)\n",
    "et_entering_text = ' '.join(et_finished)\n",
    "word_cloud_ethereum = WordCloud().generate(et_entering_text)\n",
    "plt.imshow(word_cloud_ethereum)\n",
    "\n",
    "#et_large_string = ' '.join(ethereum_df['Article_Name'])\n",
    "#et_finished = tokenizer(et_large_string)\n",
    "#et_bigram = ngrams(et_finished, n = 2)\n",
    "#Counter(et_bigram).most_common(10)"
   ]
  },
  {
   "cell_type": "markdown",
   "metadata": {},
   "source": [
    "# Named Entity Recognition\n",
    "\n",
    "In this section, you will build a named entity recognition model for both coins and visualize the tags using SpaCy."
   ]
  },
  {
   "cell_type": "code",
   "execution_count": null,
   "metadata": {},
   "outputs": [],
   "source": [
    "import spacy\n",
    "from spacy import displacy"
   ]
  },
  {
   "cell_type": "code",
   "execution_count": null,
   "metadata": {},
   "outputs": [],
   "source": [
    "# Optional - download a language model for SpaCy\n",
    "# !python -m spacy download en_core_web_sm"
   ]
  },
  {
   "cell_type": "code",
   "execution_count": null,
   "metadata": {},
   "outputs": [],
   "source": [
    "# Load the spaCy model\n",
    "nlp = spacy.load('en_core_web_sm')"
   ]
  },
  {
   "cell_type": "markdown",
   "metadata": {},
   "source": [
    "## Bitcoin NER"
   ]
  },
  {
   "cell_type": "code",
   "execution_count": null,
   "metadata": {},
   "outputs": [],
   "source": [
    "# Concatenate all of the bitcoin text together\n",
    "# YOUR CODE HERE!\n",
    "bitcoin_text = ' '.join(bitcoin_df['Article_Name'])\n",
    "bitcoin_text"
   ]
  },
  {
   "cell_type": "code",
   "execution_count": null,
   "metadata": {},
   "outputs": [],
   "source": [
    "# Run the NER processor on all of the text\n",
    "# YOUR CODE HERE!\n",
    "bitcoin_document = nlp(bitcoin_text)\n",
    "# Add a title to the document\n",
    "# YOUR CODE HERE!\n",
    "bitcoin_document.user_data[\"title\"] = \"Named Entity Recognition (NER) for Bitcoin\""
   ]
  },
  {
   "cell_type": "code",
   "execution_count": null,
   "metadata": {},
   "outputs": [],
   "source": [
    "# Render the visualization\n",
    "# YOUR CODE HERE!\n",
    "displacy.render(bitcoin_document, style='ent')"
   ]
  },
  {
   "cell_type": "code",
   "execution_count": null,
   "metadata": {},
   "outputs": [],
   "source": [
    "# List all Entities\n",
    "# YOUR CODE HERE!\n",
    "for entity in bitcoin_document.ents:\n",
    "    print(entity.text, entity.label_)\n",
    "\n",
    "\n"
   ]
  },
  {
   "cell_type": "markdown",
   "metadata": {},
   "source": [
    "---"
   ]
  },
  {
   "cell_type": "markdown",
   "metadata": {},
   "source": [
    "## Ethereum NER"
   ]
  },
  {
   "cell_type": "code",
   "execution_count": null,
   "metadata": {},
   "outputs": [],
   "source": [
    "# Concatenate all of the bitcoin text together\n",
    "# YOUR CODE HERE!\n",
    "ethereum_text = ' '.join(ethereum_df['Article_Name'])\n",
    "ethereum_text\n",
    "\n",
    "#bitcoin_text = ' '.join(bitcoin_df['Article_Name'])\n",
    "#bitcoin_text"
   ]
  },
  {
   "cell_type": "code",
   "execution_count": null,
   "metadata": {},
   "outputs": [],
   "source": [
    "# Run the NER processor on all of the text\n",
    "# YOUR CODE HERE!\n",
    "\n",
    "\n",
    "ethereum_document = nlp(ethereum_text)\n",
    "# Add a title to the document\n",
    "# YOUR CODE HERE!\n",
    "ethereum_document.user_data[\"title\"] = \"Named Entity Recognition (NER) for Ethereum\"\n",
    "\n",
    "\n",
    "\n",
    "#bitcoin_document = nlp(bitcoin_text)\n",
    "# Add a title to the document\n",
    "# YOUR CODE HERE!\n",
    "#bitcoin_document.user_data[\"title\"] = \"Named Entity Recognition (NER) for Bitcoin\""
   ]
  },
  {
   "cell_type": "code",
   "execution_count": null,
   "metadata": {},
   "outputs": [],
   "source": [
    "# Render the visualization\n",
    "# YOUR CODE HERE!\n",
    "# Render the visualization\n",
    "# YOUR CODE HERE!\n",
    "displacy.render(ethereum_document, style='ent')"
   ]
  },
  {
   "cell_type": "code",
   "execution_count": null,
   "metadata": {},
   "outputs": [],
   "source": [
    "# List all Entities\n",
    "# YOUR CODE HERE!\n",
    "for entity in ethereum_document.ents:\n",
    "    print(entity.text, entity.label_)"
   ]
  },
  {
   "cell_type": "code",
   "execution_count": null,
   "metadata": {},
   "outputs": [],
   "source": []
  }
 ],
 "metadata": {
  "file_extension": ".py",
  "kernelspec": {
   "display_name": "Python 3",
   "language": "python",
   "name": "python3"
  },
  "language_info": {
   "codemirror_mode": {
    "name": "ipython",
    "version": 3
   },
   "file_extension": ".py",
   "mimetype": "text/x-python",
   "name": "python",
   "nbconvert_exporter": "python",
   "pygments_lexer": "ipython3",
   "version": "3.7.8"
  },
  "mimetype": "text/x-python",
  "name": "python",
  "npconvert_exporter": "python",
  "pygments_lexer": "ipython3",
  "version": 3
 },
 "nbformat": 4,
 "nbformat_minor": 4
}
